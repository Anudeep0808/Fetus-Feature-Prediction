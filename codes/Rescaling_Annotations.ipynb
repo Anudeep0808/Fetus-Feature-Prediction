{
 "cells": [
  {
   "cell_type": "code",
   "execution_count": 6,
   "id": "c706a158",
   "metadata": {},
   "outputs": [
    {
     "name": "stdout",
     "output_type": "stream",
     "text": [
      "All images have been resized and saved to Resized_images.\n",
      "Updated annotations have been saved to Resized_ObjectDetection.xlsx.\n"
     ]
    }
   ],
   "source": [
    "import os\n",
    "import cv2\n",
    "import pandas as pd\n",
    "from PIL import Image\n",
    "from sklearn.model_selection import train_test_split\n",
    "\n",
    "# Constants\n",
    "IMAGE_SIZE = 224\n",
    "ORIGINAL_ANNOTATION_FILE = 'ObjectDetection.xlsx'  # Path to your original Excel file\n",
    "IMAGE_DIR = 'Pre processed images'  # Directory containing original images\n",
    "RESIZED_IMAGE_DIR = 'Resized_images'  # Directory where resized images will be saved\n",
    "RESIZED_ANNOTATION_FILE = 'Resized_ObjectDetection.xlsx'  # Path to the new Excel file with updated annotations\n",
    "\n",
    "# Create the resized images directory if it does not exist\n",
    "if not os.path.exists(RESIZED_IMAGE_DIR):\n",
    "    os.makedirs(RESIZED_IMAGE_DIR)\n",
    "\n",
    "# Load original annotations\n",
    "original_annotations = pd.read_excel(ORIGINAL_ANNOTATION_FILE)\n",
    "\n",
    "# Function to scale annotation coordinates\n",
    "def scale_annotations(row, orig_width, orig_height, target_size):\n",
    "    x_scale = target_size / orig_width\n",
    "    y_scale = target_size / orig_height\n",
    "    row['h_min'] = int(row['h_min'] * y_scale)\n",
    "    row['w_min'] = int(row['w_min'] * x_scale)\n",
    "    row['h_max'] = int(row['h_max'] * y_scale)\n",
    "    row['w_max'] = int(row['w_max'] * x_scale)\n",
    "    return row\n",
    "\n",
    "# Initialize a DataFrame to hold the resized annotations\n",
    "resized_annotations = pd.DataFrame(columns=original_annotations.columns)\n",
    "\n",
    "# Process each image and its annotations\n",
    "for fname in original_annotations['fname'].unique():\n",
    "    # Load the image\n",
    "    image_path = os.path.join(IMAGE_DIR, f\"{fname}.png\")\n",
    "    image = Image.open(image_path)\n",
    "    orig_width, orig_height = image.size\n",
    "\n",
    "    # Resize the image\n",
    "    image = image.resize((IMAGE_SIZE, IMAGE_SIZE), Image.ANTIALIAS)\n",
    "    \n",
    "    # Save the resized image to the new directory\n",
    "    resized_image_path = os.path.join(RESIZED_IMAGE_DIR, f\"{fname}.png\")\n",
    "    image.save(resized_image_path)\n",
    "\n",
    "    # Get annotations for this image and scale them\n",
    "    image_annotations = original_annotations[original_annotations['fname'] == fname]\n",
    "    scaled_annotations = image_annotations.apply(lambda row: scale_annotations(row, orig_width, orig_height, IMAGE_SIZE), axis=1)\n",
    "    \n",
    "    # Append the scaled annotations to the new DataFrame\n",
    "    resized_annotations = pd.concat([resized_annotations, scaled_annotations], ignore_index=True)\n",
    "\n",
    "# Save the resized annotations to a new Excel file\n",
    "resized_annotations.to_excel(RESIZED_ANNOTATION_FILE, index=False)\n",
    "\n",
    "print(f\"All images have been resized and saved to {RESIZED_IMAGE_DIR}.\")\n",
    "print(f\"Updated annotations have been saved to {RESIZED_ANNOTATION_FILE}.\")\n"
   ]
  },
  {
   "cell_type": "code",
   "execution_count": null,
   "id": "c04b90ea",
   "metadata": {},
   "outputs": [],
   "source": []
  }
 ],
 "metadata": {
  "kernelspec": {
   "display_name": "Python 3 (ipykernel)",
   "language": "python",
   "name": "python3"
  },
  "language_info": {
   "codemirror_mode": {
    "name": "ipython",
    "version": 3
   },
   "file_extension": ".py",
   "mimetype": "text/x-python",
   "name": "python",
   "nbconvert_exporter": "python",
   "pygments_lexer": "ipython3",
   "version": "3.9.7"
  }
 },
 "nbformat": 4,
 "nbformat_minor": 5
}
